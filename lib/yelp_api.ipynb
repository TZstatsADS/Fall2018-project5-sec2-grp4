{
 "cells": [
  {
   "cell_type": "markdown",
   "metadata": {},
   "source": [
    "# Get restaurant data from Yelp API\n",
    "\n",
    "### Step 0. Load packages"
   ]
  },
  {
   "cell_type": "code",
   "execution_count": 14,
   "metadata": {},
   "outputs": [],
   "source": [
    "from __future__ import print_function\n",
    "import argparse\n",
    "import json\n",
    "import pprint\n",
    "import requests\n",
    "import sys\n",
    "import urllib\n",
    "import pandas as pd\n",
    "import numpy as np\n",
    "from ast import literal_eval\n",
    "\n",
    "import matplotlib.pyplot as plt\n",
    "%matplotlib inline\n",
    "\n",
    "import warnings \n",
    "warnings.filterwarnings('default')\n",
    "\n",
    "try:\n",
    "    # For Python 3.0 and later\n",
    "    from urllib.error import HTTPError\n",
    "    from urllib.parse import quote\n",
    "    from urllib.parse import urlencode\n",
    "except ImportError:\n",
    "    # Fall back to Python 2's urllib2 and urllib\n",
    "    from urllib2 import HTTPError\n",
    "    from urllib import quote\n",
    "    from urllib import urlencode"
   ]
  },
  {
   "cell_type": "markdown",
   "metadata": {},
   "source": [
    "Step 1. Set up utility functions"
   ]
  },
  {
   "cell_type": "code",
   "execution_count": 3,
   "metadata": {},
   "outputs": [],
   "source": [
    "def request(host, path, api_key, url_params=None):\n",
    "    \"\"\"Given your API_KEY, send a GET request to the API.\n",
    "    Args:\n",
    "        host (str): The domain host of the API.\n",
    "        path (str): The path of the API after the domain.\n",
    "        API_KEY (str): Your API Key.\n",
    "        url_params (dict): An optional set of query parameters in the request.\n",
    "    Returns:\n",
    "        dict: The JSON response from the request.\n",
    "    Raises:\n",
    "        HTTPError: An error occurs from the HTTP request.\n",
    "    \"\"\"\n",
    "    url_params = url_params or {}\n",
    "    url = '{0}{1}'.format(host, quote(path.encode('utf8')))\n",
    "    headers = {\n",
    "        'Authorization': 'Bearer %s' % api_key,\n",
    "    }\n",
    "    print(u'Querying {0} ...'.format(url))\n",
    "    response = requests.request('GET', url, headers=headers, params=url_params)\n",
    "    return response.json()\n",
    "\n",
    "\n",
    "def search(api_key, term, location):\n",
    "    \"\"\"Query the Search API by a search term and location.\n",
    "    Args:\n",
    "        term (str): The search term passed to the API.\n",
    "        location (str): The search location passed to the API.\n",
    "    Returns:\n",
    "        dict: The JSON response from the request.\n",
    "    \"\"\"\n",
    "    url_params = {\n",
    "        'term': term.replace(' ', '+'),\n",
    "        'location': location.replace(' ', '+'),\n",
    "        'sort_by': 'distance',\n",
    "        'limit': SEARCH_LIMIT\n",
    "    }\n",
    "    return request(API_HOST, SEARCH_PATH, api_key, url_params=url_params)\n",
    "\n",
    "def get_reviews(business_id):\n",
    "    \"\"\"Query the Business API by a business ID.\n",
    "    Args:\n",
    "        business_id (str): The ID of the business to query.\n",
    "    Returns:\n",
    "        dict: The JSON response from the request.\n",
    "    \"\"\"\n",
    "    business_path = BUSINESS_PATH + business_id\n",
    "    url = API_HOST + business_path + '/reviews'\n",
    "    headers = {'Authorization': f\"Bearer {API_KEY}\"}\n",
    "    response = requests.get(url, headers=headers)\n",
    "    return response.json()"
   ]
  },
  {
   "cell_type": "markdown",
   "metadata": {},
   "source": [
    "### Step 2. Set up API parameters"
   ]
  },
  {
   "cell_type": "code",
   "execution_count": 4,
   "metadata": {},
   "outputs": [],
   "source": [
    "# set up the api key\n",
    "# API_KEY = \"fzeRFbisDGyup_leFAbOn-I2ZXWzbDG89yb9Q9hBMjhmnJJTDCETcWYHN94k3GkGxWHFag41JVoWBtcBZdGLUK3ee_Ep8s_ppZNt61CoLrrpC_X4CpyqnRr7vTrnW3Yx\"\n",
    "\n",
    "API_HOST = 'https://api.yelp.com'\n",
    "SEARCH_PATH = '/v3/businesses/search'\n",
    "BUSINESS_PATH = '/v3/businesses/'\n",
    "\n",
    "DEFAULT_TERM = 'restaurants'\n",
    "SEARCH_LIMIT = 50"
   ]
  },
  {
   "cell_type": "markdown",
   "metadata": {},
   "source": [
    "### Step 3. Get restaurant data by zip code"
   ]
  },
  {
   "cell_type": "code",
   "execution_count": null,
   "metadata": {},
   "outputs": [],
   "source": [
    "zip_gentri = [\"10454\", \"10455\", \"10459\", \"10469\", \"10474\", \"11203\", \"11205\", \"11206\", \"11211\", \"11212\",\n",
    "              \"11213\", \"11215\", \"11216\", \"11217\", \"11218\", \"11220\", \"11221\", \"11222\", \"11225\", \"11226\",\n",
    "              \"11232\", \"11233\", \"11237\", \"11238\", \"10002\", \"10003\", \"10007\", \"10009\", \"10013\", \"10024\",\n",
    "              \"10025\", \"10026\", \"10027\", \"10029\", \"10030\", \"10031\", \"10032\", \"10033\", \"10034\", \"10035\",\n",
    "              \"10037\", \"10038\", \"10039\", \"10040\", \"10115\", \"10128\", \"11101\", \"11102\", \"11103\", \"11105\",\n",
    "              \"11106\", \"11370\", \"11377\"]\n",
    "\n",
    "zip_nongen = [\"10452\", \"10453\", \"10461\", \"10465\", \"10467\", \"10468\", \"10472\", \"10473\", \"11204\", \"11208\", \n",
    "              \"11214\", \"11223\", \"11224\", \"11228\", \"11235\", \"11239\"]\n",
    "\n",
    "zip_overla = [\"10451\", \"10456\", \"10457\", \"10458\", \"10460\", \"10462\", \"10463\", \"11207\", \"11219\", \"11236\"]"
   ]
  },
  {
   "cell_type": "markdown",
   "metadata": {},
   "source": [
    "Gentrifying areas"
   ]
  },
  {
   "cell_type": "code",
   "execution_count": null,
   "metadata": {},
   "outputs": [],
   "source": [
    "restaurants_gentri = []\n",
    "for i in zip_gentri:\n",
    "    busine = search(API_KEY, DEFAULT_TERM, i).get('businesses')\n",
    "    restaurants_gentri.append(busine)\n",
    "\n",
    "list_restaurants_gentri = [item for sublist in restaurants_gentri for item in sublist]"
   ]
  },
  {
   "cell_type": "markdown",
   "metadata": {},
   "source": [
    "Non-gentrifying areas"
   ]
  },
  {
   "cell_type": "code",
   "execution_count": null,
   "metadata": {},
   "outputs": [],
   "source": [
    "restaurants_nongen = []\n",
    "for i in zip_nongen:\n",
    "    busine = search(API_KEY, DEFAULT_TERM, i).get('businesses')\n",
    "    restaurants_nongen.append(busine)\n",
    "\n",
    "list_restaurants_nongen = [item for sublist in restaurants_nongen for item in sublist]"
   ]
  },
  {
   "cell_type": "markdown",
   "metadata": {},
   "source": [
    "Overlapped areas"
   ]
  },
  {
   "cell_type": "code",
   "execution_count": null,
   "metadata": {},
   "outputs": [],
   "source": [
    "restaurants_overla = []\n",
    "for i in zip_overla:\n",
    "    busine = search(API_KEY, DEFAULT_TERM, i).get('businesses')\n",
    "    restaurants_overla.append(busine)\n",
    "\n",
    "list_restaurants_overla = [item for sublist in restaurants_overla for item in sublist]"
   ]
  },
  {
   "cell_type": "markdown",
   "metadata": {},
   "source": [
    "Data for gentrifying, non-gentrifying and overlapped areas are saved as csv files under the data folder."
   ]
  },
  {
   "cell_type": "code",
   "execution_count": null,
   "metadata": {},
   "outputs": [],
   "source": [
    "df_gentri_raw = pd.DataFrame.from_dict(list_restaurants_gentri)\n",
    "df_nongen_raw = pd.DataFrame.from_dict(list_restaurants_nongen)\n",
    "df_overla_raw = pd.DataFrame.from_dict(list_restaurants_overla)"
   ]
  },
  {
   "cell_type": "code",
   "execution_count": null,
   "metadata": {},
   "outputs": [],
   "source": []
  }
 ],
 "metadata": {
  "kernelspec": {
   "display_name": "Python 3",
   "language": "python",
   "name": "python3"
  },
  "language_info": {
   "codemirror_mode": {
    "name": "ipython",
    "version": 3
   },
   "file_extension": ".py",
   "mimetype": "text/x-python",
   "name": "python",
   "nbconvert_exporter": "python",
   "pygments_lexer": "ipython3",
   "version": "3.6.4"
  }
 },
 "nbformat": 4,
 "nbformat_minor": 2
}
